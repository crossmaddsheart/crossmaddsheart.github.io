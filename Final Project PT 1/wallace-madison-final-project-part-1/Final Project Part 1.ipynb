{
 "cells": [
  {
   "cell_type": "code",
   "execution_count": 2,
   "id": "affiliated-siemens",
   "metadata": {},
   "outputs": [],
   "source": [
    "%matplotlib inline\n",
    "import pandas as pd\n",
    "import matplotlib.pyplot as plt\n",
    "import ipywidgets\n",
    "import bqplot\n",
    "import numpy as np"
   ]
  },
  {
   "cell_type": "code",
   "execution_count": 12,
   "id": "forty-masters",
   "metadata": {},
   "outputs": [
    {
     "data": {
      "text/plain": [
       "array([['1900-01-01', -13.11, 0.668, 'Moskva', 'Russia'],\n",
       "       ['1900-02-01', -10.575, 0.776, 'Moskva', 'Russia'],\n",
       "       ['1900-03-01', -4.537, 0.649, 'Moskva', 'Russia'],\n",
       "       ...,\n",
       "       ['2013-06-01', 18.911, 0.369, 'Moskva', 'Russia'],\n",
       "       ['2013-07-01', 18.385, 0.305, 'Moskva', 'Russia'],\n",
       "       ['2013-08-01', 17.653, 0.425, 'Moskva', 'Russia']], dtype=object)"
      ]
     },
     "execution_count": 12,
     "metadata": {},
     "output_type": "execute_result"
    }
   ],
   "source": [
    "moscow = pd.read_csv('moskform.csv')\n",
    "moscow.loc[moscow['Country'] == 'Russia'].values"
   ]
  },
  {
   "cell_type": "code",
   "execution_count": 37,
   "id": "biblical-preference",
   "metadata": {},
   "outputs": [
    {
     "data": {
      "text/html": [
       "<div>\n",
       "<style scoped>\n",
       "    .dataframe tbody tr th:only-of-type {\n",
       "        vertical-align: middle;\n",
       "    }\n",
       "\n",
       "    .dataframe tbody tr th {\n",
       "        vertical-align: top;\n",
       "    }\n",
       "\n",
       "    .dataframe thead th {\n",
       "        text-align: right;\n",
       "    }\n",
       "</style>\n",
       "<table border=\"1\" class=\"dataframe\">\n",
       "  <thead>\n",
       "    <tr style=\"text-align: right;\">\n",
       "      <th></th>\n",
       "      <th>dt</th>\n",
       "      <th>AverageTemperature</th>\n",
       "      <th>AverageTemperatureUncertainty</th>\n",
       "      <th>State</th>\n",
       "      <th>Country</th>\n",
       "    </tr>\n",
       "  </thead>\n",
       "  <tbody>\n",
       "    <tr>\n",
       "      <th>0</th>\n",
       "      <td>1900-01-01</td>\n",
       "      <td>25.732</td>\n",
       "      <td>1.080</td>\n",
       "      <td>Acre</td>\n",
       "      <td>Brazil</td>\n",
       "    </tr>\n",
       "    <tr>\n",
       "      <th>1</th>\n",
       "      <td>1900-02-01</td>\n",
       "      <td>26.050</td>\n",
       "      <td>1.080</td>\n",
       "      <td>Acre</td>\n",
       "      <td>Brazil</td>\n",
       "    </tr>\n",
       "    <tr>\n",
       "      <th>2</th>\n",
       "      <td>1900-03-01</td>\n",
       "      <td>26.574</td>\n",
       "      <td>0.894</td>\n",
       "      <td>Acre</td>\n",
       "      <td>Brazil</td>\n",
       "    </tr>\n",
       "    <tr>\n",
       "      <th>3</th>\n",
       "      <td>1900-04-01</td>\n",
       "      <td>25.947</td>\n",
       "      <td>1.192</td>\n",
       "      <td>Acre</td>\n",
       "      <td>Brazil</td>\n",
       "    </tr>\n",
       "    <tr>\n",
       "      <th>4</th>\n",
       "      <td>1900-05-01</td>\n",
       "      <td>25.557</td>\n",
       "      <td>0.856</td>\n",
       "      <td>Acre</td>\n",
       "      <td>Brazil</td>\n",
       "    </tr>\n",
       "    <tr>\n",
       "      <th>...</th>\n",
       "      <td>...</td>\n",
       "      <td>...</td>\n",
       "      <td>...</td>\n",
       "      <td>...</td>\n",
       "      <td>...</td>\n",
       "    </tr>\n",
       "    <tr>\n",
       "      <th>4087</th>\n",
       "      <td>2013-04-01</td>\n",
       "      <td>5.353</td>\n",
       "      <td>0.286</td>\n",
       "      <td>Moscow City</td>\n",
       "      <td>Russia</td>\n",
       "    </tr>\n",
       "    <tr>\n",
       "      <th>4088</th>\n",
       "      <td>2013-05-01</td>\n",
       "      <td>16.152</td>\n",
       "      <td>0.290</td>\n",
       "      <td>Moscow City</td>\n",
       "      <td>Russia</td>\n",
       "    </tr>\n",
       "    <tr>\n",
       "      <th>4089</th>\n",
       "      <td>2013-06-01</td>\n",
       "      <td>18.718</td>\n",
       "      <td>0.396</td>\n",
       "      <td>Moscow City</td>\n",
       "      <td>Russia</td>\n",
       "    </tr>\n",
       "    <tr>\n",
       "      <th>4090</th>\n",
       "      <td>2013-07-01</td>\n",
       "      <td>18.136</td>\n",
       "      <td>0.315</td>\n",
       "      <td>Moscow City</td>\n",
       "      <td>Russia</td>\n",
       "    </tr>\n",
       "    <tr>\n",
       "      <th>4091</th>\n",
       "      <td>2013-08-01</td>\n",
       "      <td>17.485</td>\n",
       "      <td>0.440</td>\n",
       "      <td>Moscow City</td>\n",
       "      <td>Russia</td>\n",
       "    </tr>\n",
       "  </tbody>\n",
       "</table>\n",
       "<p>4092 rows × 5 columns</p>\n",
       "</div>"
      ],
      "text/plain": [
       "              dt  AverageTemperature  AverageTemperatureUncertainty  \\\n",
       "0     1900-01-01              25.732                          1.080   \n",
       "1     1900-02-01              26.050                          1.080   \n",
       "2     1900-03-01              26.574                          0.894   \n",
       "3     1900-04-01              25.947                          1.192   \n",
       "4     1900-05-01              25.557                          0.856   \n",
       "...          ...                 ...                            ...   \n",
       "4087  2013-04-01               5.353                          0.286   \n",
       "4088  2013-05-01              16.152                          0.290   \n",
       "4089  2013-06-01              18.718                          0.396   \n",
       "4090  2013-07-01              18.136                          0.315   \n",
       "4091  2013-08-01              17.485                          0.440   \n",
       "\n",
       "            State Country  \n",
       "0            Acre  Brazil  \n",
       "1            Acre  Brazil  \n",
       "2            Acre  Brazil  \n",
       "3            Acre  Brazil  \n",
       "4            Acre  Brazil  \n",
       "...           ...     ...  \n",
       "4087  Moscow City  Russia  \n",
       "4088  Moscow City  Russia  \n",
       "4089  Moscow City  Russia  \n",
       "4090  Moscow City  Russia  \n",
       "4091  Moscow City  Russia  \n",
       "\n",
       "[4092 rows x 5 columns]"
      ]
     },
     "execution_count": 37,
     "metadata": {},
     "output_type": "execute_result"
    }
   ],
   "source": [
    "threeStates = pd.read_csv('Braz-Aus-Rus.csv')\n",
    "threeStates"
   ]
  },
  {
   "cell_type": "code",
   "execution_count": 55,
   "id": "forbidden-liabilities",
   "metadata": {},
   "outputs": [],
   "source": [
    "title = [['dt','AverageTemperature','AverageTemperatureUncertainty','State','Country']]"
   ]
  },
  {
   "cell_type": "code",
   "execution_count": 56,
   "id": "soviet-attachment",
   "metadata": {},
   "outputs": [],
   "source": [
    "brazil = threeStates.loc[threeStates['Country'] == 'Brazil'].values\n",
    "brazil = np.concatenate((title, brazil))"
   ]
  },
  {
   "cell_type": "code",
   "execution_count": 57,
   "id": "distant-glass",
   "metadata": {},
   "outputs": [],
   "source": [
    "aus = threeStates.loc[threeStates['Country'] == 'Australia'].values\n",
    "aus = np.concatenate((title, aus))"
   ]
  },
  {
   "cell_type": "code",
   "execution_count": 58,
   "id": "occasional-stewart",
   "metadata": {},
   "outputs": [
    {
     "data": {
      "text/plain": [
       "array([['dt', 'AverageTemperature', 'AverageTemperatureUncertainty',\n",
       "        'State', 'Country'],\n",
       "       ['1900-01-01', -12.71, 0.873, 'Moscow City', 'Russia'],\n",
       "       ['1900-02-01', -10.109, 0.891, 'Moscow City', 'Russia'],\n",
       "       ...,\n",
       "       ['2013-06-01', 18.718, 0.396, 'Moscow City', 'Russia'],\n",
       "       ['2013-07-01', 18.136, 0.315, 'Moscow City', 'Russia'],\n",
       "       ['2013-08-01', 17.485, 0.44, 'Moscow City', 'Russia']],\n",
       "      dtype=object)"
      ]
     },
     "execution_count": 58,
     "metadata": {},
     "output_type": "execute_result"
    }
   ],
   "source": [
    "rus = threeStates.loc[threeStates['Country'] == 'Russia'].values\n",
    "rus = np.concatenate((title, rus))\n",
    "rus"
   ]
  },
  {
   "cell_type": "code",
   "execution_count": 19,
   "id": "baking-genre",
   "metadata": {},
   "outputs": [
    {
     "data": {
      "text/plain": [
       "<matplotlib.axes._subplots.AxesSubplot at 0x263c397d348>"
      ]
     },
     "execution_count": 19,
     "metadata": {},
     "output_type": "execute_result"
    },
    {
     "data": {
      "image/png": "[encoded data removed]",
      "text/plain": [
       "<Figure size 432x288 with 1 Axes>"
      ]
     },
     "metadata": {
      "needs_background": "light"
     },
     "output_type": "display_data"
    }
   ],
   "source": [
    "threeStates.plot(x = \"dt\", y=\"AverageTemperatureUncertainty\")"
   ]
  },
  {
   "cell_type": "code",
   "execution_count": 64,
   "id": "suffering-laptop",
   "metadata": {},
   "outputs": [
    {
     "ename": "AttributeError",
     "evalue": "'str' object has no attribute 'plot'",
     "output_type": "error",
     "traceback": [
      "\u001b[1;31m---------------------------------------------------------------------------\u001b[0m",
      "\u001b[1;31mAttributeError\u001b[0m                            Traceback (most recent call last)",
      "\u001b[1;32m<ipython-input-64-f5cb6634d9a5>\u001b[0m in \u001b[0;36m<module>\u001b[1;34m\u001b[0m\n\u001b[1;32m----> 1\u001b[1;33m \u001b[0maus\u001b[0m\u001b[1;33m[\u001b[0m\u001b[1;36m0\u001b[0m\u001b[1;33m,\u001b[0m\u001b[1;36m1\u001b[0m\u001b[1;33m]\u001b[0m\u001b[1;33m.\u001b[0m\u001b[0mplot\u001b[0m\u001b[1;33m(\u001b[0m\u001b[0mx\u001b[0m \u001b[1;33m=\u001b[0m \u001b[1;34m\"dt\"\u001b[0m\u001b[1;33m,\u001b[0m \u001b[0my\u001b[0m\u001b[1;33m=\u001b[0m\u001b[1;34m\"AverageTemperature\"\u001b[0m\u001b[1;33m,\u001b[0m \u001b[0mkind\u001b[0m\u001b[1;33m=\u001b[0m\u001b[1;34m'scatter'\u001b[0m\u001b[1;33m)\u001b[0m\u001b[1;33m\u001b[0m\u001b[1;33m\u001b[0m\u001b[0m\n\u001b[0m",
      "\u001b[1;31mAttributeError\u001b[0m: 'str' object has no attribute 'plot'"
     ]
    }
   ],
   "source": [
    "aus[0,1].plot(x = \"dt\", y=\"AverageTemperature\", kind='scatter')"
   ]
  },
  {
   "cell_type": "code",
   "execution_count": null,
   "id": "congressional-casting",
   "metadata": {},
   "outputs": [],
   "source": [
    "'''\n",
    "This data was pulled from https://www.kaggle.com/berkeleyearth/climate-change-earth-surface-temperature-data\n",
    "It is usable via the CC BY-NC-SA 4.0, which means for non commercial use, with attribute.\n",
    "It's meant for people to look at climate and weather change on their own, to make their decisions about it\n",
    "Since the datasets from the site are big and not squeaky clean to use, I took out 3 states from the \n",
    "GlobalLandTemperaturesByState.csv (Acre, Brazil, Northern Territory, Aus., and Moscow City, Russia) to show differences in\n",
    "different parts of the world. The fields include dt (date, from 1900-2013), AverageTemperature, \n",
    "AverageTemperatureUncertainty (the 95% confidence interval around the average, basically an anomoly range), State, and \n",
    "Country. It's got 4,093 rows and 5 columns. \n",
    "\n",
    "Sizes:\n",
    "Mine: Braz-Aus-Rus.csv - 178 KB \n",
    "Original: GlobalLandTemperaturesByState.csv - 29.3 MB\n",
    "\n",
    "'''"
   ]
  }
 ],
 "metadata": {
  "kernelspec": {
   "display_name": "Python 3",
   "language": "python",
   "name": "python3"
  },
  "language_info": {
   "codemirror_mode": {
    "name": "ipython",
    "version": 3
   },
   "file_extension": ".py",
   "mimetype": "text/x-python",
   "name": "python",
   "nbconvert_exporter": "python",
   "pygments_lexer": "ipython3",
   "version": "3.7.9"
  }
 },
 "nbformat": 4,
 "nbformat_minor": 5
}
